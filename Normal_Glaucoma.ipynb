{
  "nbformat": 4,
  "nbformat_minor": 0,
  "metadata": {
    "colab": {
      "name": "Normal-Glaucoma.ipynb",
      "provenance": [],
      "collapsed_sections": []
    },
    "kernelspec": {
      "name": "python3",
      "display_name": "Python 3"
    },
    "language_info": {
      "name": "python"
    },
    "accelerator": "GPU"
  },
  "cells": [
    {
      "cell_type": "code",
      "source": [
        "google_colab_flag = True"
      ],
      "metadata": {
        "id": "SCVWiBWQhC1q"
      },
      "execution_count": 12,
      "outputs": []
    },
    {
      "cell_type": "code",
      "source": [
        "!pip install visualkeras"
      ],
      "metadata": {
        "colab": {
          "base_uri": "https://localhost:8080/"
        },
        "id": "2pOhCAgv7r5r",
        "outputId": "84d3c5c4-8eef-4a11-dcb4-17e3bc1c06fb"
      },
      "execution_count": 13,
      "outputs": [
        {
          "output_type": "stream",
          "name": "stdout",
          "text": [
            "Collecting visualkeras\n",
            "  Downloading visualkeras-0.0.2-py3-none-any.whl (12 kB)\n",
            "Collecting aggdraw>=1.3.11\n",
            "  Downloading aggdraw-1.3.14-cp37-cp37m-manylinux_2_17_x86_64.manylinux2014_x86_64.whl (992 kB)\n",
            "\u001b[K     |████████████████████████████████| 992 kB 5.1 MB/s \n",
            "\u001b[?25hRequirement already satisfied: pillow>=6.2.0 in /usr/local/lib/python3.7/dist-packages (from visualkeras) (7.1.2)\n",
            "Requirement already satisfied: numpy>=1.18.1 in /usr/local/lib/python3.7/dist-packages (from visualkeras) (1.21.5)\n",
            "Installing collected packages: aggdraw, visualkeras\n",
            "Successfully installed aggdraw-1.3.14 visualkeras-0.0.2\n"
          ]
        }
      ]
    },
    {
      "cell_type": "code",
      "source": [
        "from google.colab import drive\n",
        "import sys"
      ],
      "metadata": {
        "id": "PVsMsEXyhHQt"
      },
      "execution_count": 14,
      "outputs": []
    },
    {
      "cell_type": "code",
      "source": [
        "if(google_colab_flag):\n",
        "\n",
        "  drive.mount('/content/drive')\n",
        "  root_path = '/content/drive/MyDrive/Data/Glaucoma/'\n",
        "  sys.path.append(root_path)\n",
        "\n",
        "else:\n",
        "  root_path = ''"
      ],
      "metadata": {
        "colab": {
          "base_uri": "https://localhost:8080/"
        },
        "id": "B7vZhXeYhJL1",
        "outputId": "177d57db-685f-4a61-edba-11b097c811a9"
      },
      "execution_count": 15,
      "outputs": [
        {
          "output_type": "stream",
          "name": "stdout",
          "text": [
            "Mounted at /content/drive\n"
          ]
        }
      ]
    },
    {
      "cell_type": "code",
      "execution_count": 16,
      "metadata": {
        "id": "C5DIZJbnZOqV"
      },
      "outputs": [],
      "source": [
        "import numpy as np\n",
        "from sklearn.metrics import confusion_matrix, accuracy_score, precision_score, f1_score \n",
        "from sklearn.model_selection import StratifiedKFold\n",
        "from PIL import Image\n",
        "from glob import glob\n",
        "import random\n",
        "import keras\n",
        "import tensorflow as tf\n",
        "from tensorflow import keras\n",
        "import warnings\n",
        "import os\n",
        "import shutil\n",
        "from PIL import ImageFile\n",
        "\n",
        "from tensorflow.keras.preprocessing.image import ImageDataGenerator\n",
        "from tensorflow.keras.preprocessing import image\n",
        "\n",
        "from tensorflow.keras import layers\n",
        "from tensorflow.keras.models import Sequential, Model\n",
        "from tensorflow.keras.layers import Dense\n",
        "from tensorflow.keras.layers import Dropout\n",
        "from tensorflow.keras.layers import Flatten\n",
        "from tensorflow.keras.layers import Conv2D\n",
        "from tensorflow.keras.layers import MaxPool2D\n",
        "import visualkeras"
      ]
    },
    {
      "cell_type": "code",
      "source": [
        "import matplotlib.pyplot as plt\n",
        "import tensorflow as tf\n",
        "import pandas as pd\n",
        "import numpy as np\n",
        "import cv2 as cv\n",
        "import os"
      ],
      "metadata": {
        "id": "Kk3IexbsbiDz"
      },
      "execution_count": 17,
      "outputs": []
    },
    {
      "cell_type": "code",
      "source": [
        "from tensorflow.compat.v1 import ConfigProto\n",
        "from tensorflow.compat.v1 import InteractiveSession"
      ],
      "metadata": {
        "id": "dSjNd6uLrD63"
      },
      "execution_count": 18,
      "outputs": []
    },
    {
      "cell_type": "code",
      "source": [
        "warnings.simplefilter('error', Image.DecompressionBombWarning)\n",
        "ImageFile.LOAD_TRUNCATED_IMAGES = True"
      ],
      "metadata": {
        "id": "u1NfGiKGhdQ5"
      },
      "execution_count": 19,
      "outputs": []
    },
    {
      "cell_type": "code",
      "source": [
        "Image.MAX_IMAGE_PIXELS = 1000000000\n",
        "config = ConfigProto()\n",
        "config.gpu_options.allow_growth = True\n",
        "session = InteractiveSession(config=config)"
      ],
      "metadata": {
        "id": "LkfcJiwGhfbZ"
      },
      "execution_count": 20,
      "outputs": []
    },
    {
      "cell_type": "code",
      "source": [
        "dataset_folder_name = root_path + 'Dataset'\n",
        "\n",
        "model_file_name = root_path + 'model_cv.h5'"
      ],
      "metadata": {
        "id": "SSteRT9chiJx"
      },
      "execution_count": 21,
      "outputs": []
    },
    {
      "cell_type": "code",
      "source": [
        "source_files = []\n",
        "class_labels = ['glaucoma', 'normal']\n",
        "\n",
        "X = []\n",
        "Y = []"
      ],
      "metadata": {
        "id": "-aoS6rykh7Hw"
      },
      "execution_count": 22,
      "outputs": []
    },
    {
      "cell_type": "code",
      "source": [
        "image_rows, image_cols = 200, 200\n",
        "\n",
        "train_path = dataset_folder_name + '/train/'\n",
        "validation_path = dataset_folder_name + '/validation/'\n",
        "test_path = dataset_folder_name + '/test/'"
      ],
      "metadata": {
        "id": "OBIEuG12h90Z"
      },
      "execution_count": 23,
      "outputs": []
    },
    {
      "cell_type": "code",
      "source": [
        "def transferBetweenFolders(source, dest, splitRate):\n",
        "\n",
        "  global source_files\n",
        "  source_files = os.listdir(source)\n",
        "\n",
        "  if(len(source_files) != 0):\n",
        "\n",
        "    transfer_file_numbers = int(len(source_files) * splitRate)\n",
        "    transfer_index = random.sample(range(0, len(source_files)), transfer_file_numbers)\n",
        "\n",
        "    for each_index in transfer_index:\n",
        "\n",
        "      shutil.move(source + str(source_files[each_index]), dest + str(source_files[each_index]))\n",
        "\n",
        "  else:\n",
        "    \n",
        "   print(\"No file moved. Source empty!\") "
      ],
      "metadata": {
        "id": "ebrZnZbNiCyp"
      },
      "execution_count": 24,
      "outputs": []
    },
    {
      "cell_type": "code",
      "source": [
        "def transferAllClassBetweenFolders(source, dest, splitRate):\n",
        "\n",
        "  for label in class_labels:\n",
        "\n",
        "    transferBetweenFolders(dataset_folder_name + '/' + source + '/' + label + '/',\n",
        "                                   dataset_folder_name + '/' + dest + '/' + label + '/',\n",
        "                                   splitRate)"
      ],
      "metadata": {
        "id": "ucW3MdnHiFmQ"
      },
      "execution_count": 25,
      "outputs": []
    },
    {
      "cell_type": "code",
      "source": [
        "def my_metrics(y_true, y_pred):\n",
        "\n",
        "  confusionMatrix = confusion_matrix(y_true, y_pred)\n",
        "  print(confusionMatrix)\n",
        "\n",
        "  accuracy = accuracy_score(y_true, y_pred)\n",
        "  precision = precision_score(y_true, y_pred, average= 'weighted')\n",
        "  sensitivity = confusionMatrix[0, 0] / (confusionMatrix[0,0] + confusionMatrix[0,1])\n",
        "  specificity = confusionMatrix[1,1]/(confusionMatrix[1,0] + confusionMatrix[1,1])\n",
        "  f1Score = f1_score(y_true, y_pred, average= 'weighted')\n",
        "\n",
        "\n",
        "  print(\"Accuracy  : {}\".format(accuracy))\n",
        "  print(\"Precision : {}\".format(precision))\n",
        "  print(\"Sensitivity: {}\".format(sensitivity))\n",
        "  print(\"specificity: {}\".format(specificity))\n",
        "  print(\"f1Score : {}\".format(f1Score))\n",
        "\n",
        "  return accuracy, precision, f1Score"
      ],
      "metadata": {
        "id": "m02TlCeGiOmV"
      },
      "execution_count": 26,
      "outputs": []
    },
    {
      "cell_type": "code",
      "source": [
        "transferAllClassBetweenFolders('test', 'train', 1.0)"
      ],
      "metadata": {
        "id": "gRoAT8-_iTHL"
      },
      "execution_count": 27,
      "outputs": []
    },
    {
      "cell_type": "code",
      "source": [
        "transferAllClassBetweenFolders('train', 'test', 0.2)"
      ],
      "metadata": {
        "id": "eQnyGFNAih-5"
      },
      "execution_count": 28,
      "outputs": []
    },
    {
      "cell_type": "code",
      "source": [
        "def prepareNameWithLabels(folder_name):\n",
        "\n",
        "    source_files = os.listdir(dataset_folder_name +'/train/'+ folder_name)\n",
        "    for val in source_files:\n",
        "      \n",
        "        X.append(val)\n",
        "        for i in range(len(class_labels)):\n",
        "          if(folder_name == class_labels[i]):\n",
        "              Y.append(i)"
      ],
      "metadata": {
        "id": "griW38Avilzp"
      },
      "execution_count": 29,
      "outputs": []
    },
    {
      "cell_type": "code",
      "source": [
        "# Organize file names and class labels in X and Y variables\n",
        "\n",
        "for i in range(len(class_labels)):\n",
        "  \n",
        "  prepareNameWithLabels(class_labels[i])"
      ],
      "metadata": {
        "id": "8FQxYuTjin5r"
      },
      "execution_count": 30,
      "outputs": []
    },
    {
      "cell_type": "code",
      "source": [
        "X = np.asarray(X)\n",
        "Y = np.asarray(Y)"
      ],
      "metadata": {
        "id": "7-wE1kRCislx"
      },
      "execution_count": 31,
      "outputs": []
    },
    {
      "cell_type": "code",
      "source": [
        "batch_size = 8\n",
        "epoch = 5"
      ],
      "metadata": {
        "id": "ggRQA2iPiveZ"
      },
      "execution_count": 32,
      "outputs": []
    },
    {
      "cell_type": "code",
      "source": [
        "from tensorflow import keras\n",
        "import keras"
      ],
      "metadata": {
        "id": "3Hw4QjWD6Afu"
      },
      "execution_count": 33,
      "outputs": []
    },
    {
      "cell_type": "code",
      "source": [
        "model1 = Sequential()\n",
        "\n",
        "# 1st layers\n",
        "model1.add(Conv2D(filters= 16, kernel_size= 3, activation= 'relu', input_shape=(image_rows, image_cols, 3)))\n",
        "model1.add(Conv2D(filters= 16, kernel_size= 3, activation= 'relu'))\n",
        "model1.add(MaxPool2D(2, 2))\n",
        "\n",
        "# 2nd layers\n",
        "model1.add(Conv2D(filters= 32, kernel_size= 3, activation= 'relu'))\n",
        "model1.add(Conv2D(filters= 32, kernel_size= 3, activation= 'relu'))\n",
        "model1.add(MaxPool2D(2, 2))\n",
        "\n",
        "# 3rd layers\n",
        "model1.add(Conv2D(filters= 64, kernel_size= 3, activation= 'relu'))\n",
        "model1.add(Conv2D(filters= 64, kernel_size= 3, activation= 'relu'))\n",
        "model1.add(MaxPool2D(2, 2))\n",
        "\n",
        "model1.add(Flatten())\n",
        "\n",
        "model1.add(Dense(512, activation= 'relu'))\n",
        "model1.add(Dense(len(class_labels), activation= 'sigmoid'))"
      ],
      "metadata": {
        "id": "iosy6_8lixlR"
      },
      "execution_count": 34,
      "outputs": []
    },
    {
      "cell_type": "code",
      "source": [
        "model1.compile(optimizer='adam', loss='binary_crossentropy', metrics=['accuracy'])"
      ],
      "metadata": {
        "id": "Fu6keiN7QCGJ"
      },
      "execution_count": 35,
      "outputs": []
    },
    {
      "cell_type": "code",
      "source": [
        "model1.summary()"
      ],
      "metadata": {
        "colab": {
          "base_uri": "https://localhost:8080/"
        },
        "id": "T0vWazhIi3s5",
        "outputId": "211e1f9b-f176-4d59-8591-91d0706ccf4b"
      },
      "execution_count": 36,
      "outputs": [
        {
          "output_type": "stream",
          "name": "stdout",
          "text": [
            "Model: \"sequential\"\n",
            "_________________________________________________________________\n",
            " Layer (type)                Output Shape              Param #   \n",
            "=================================================================\n",
            " conv2d (Conv2D)             (None, 198, 198, 16)      448       \n",
            "                                                                 \n",
            " conv2d_1 (Conv2D)           (None, 196, 196, 16)      2320      \n",
            "                                                                 \n",
            " max_pooling2d (MaxPooling2D  (None, 98, 98, 16)       0         \n",
            " )                                                               \n",
            "                                                                 \n",
            " conv2d_2 (Conv2D)           (None, 96, 96, 32)        4640      \n",
            "                                                                 \n",
            " conv2d_3 (Conv2D)           (None, 94, 94, 32)        9248      \n",
            "                                                                 \n",
            " max_pooling2d_1 (MaxPooling  (None, 47, 47, 32)       0         \n",
            " 2D)                                                             \n",
            "                                                                 \n",
            " conv2d_4 (Conv2D)           (None, 45, 45, 64)        18496     \n",
            "                                                                 \n",
            " conv2d_5 (Conv2D)           (None, 43, 43, 64)        36928     \n",
            "                                                                 \n",
            " max_pooling2d_2 (MaxPooling  (None, 21, 21, 64)       0         \n",
            " 2D)                                                             \n",
            "                                                                 \n",
            " flatten_2 (Flatten)         (None, 28224)             0         \n",
            "                                                                 \n",
            " dense_4 (Dense)             (None, 512)               14451200  \n",
            "                                                                 \n",
            " dense_5 (Dense)             (None, 2)                 1026      \n",
            "                                                                 \n",
            "=================================================================\n",
            "Total params: 14,524,306\n",
            "Trainable params: 14,524,306\n",
            "Non-trainable params: 0\n",
            "_________________________________________________________________\n"
          ]
        }
      ]
    },
    {
      "cell_type": "code",
      "source": [
        "visualkeras.layered_view(model1)"
      ],
      "metadata": {
        "colab": {
          "base_uri": "https://localhost:8080/",
          "height": 1000
        },
        "id": "4mccRw4w49aK",
        "outputId": "ddacec5b-ec33-429a-b205-9a181811666e"
      },
      "execution_count": 37,
      "outputs": [
        {
          "output_type": "execute_result",
          "data": {
            "text/plain": [
              "<PIL.Image.Image image mode=RGBA size=917x1056 at 0x7FF8B9B29CD0>"
            ],
            "image/png": "[encoded data removed]"
          },
          "metadata": {},
          "execution_count": 37
        }
      ]
    },
    {
      "cell_type": "code",
      "source": [
        "skf = StratifiedKFold(n_splits = 5, shuffle=True)\n",
        "skf.get_n_splits(X, Y)\n",
        "\n",
        "foldNum=0"
      ],
      "metadata": {
        "id": "GbKoaAbGjA6B"
      },
      "execution_count": 38,
      "outputs": []
    },
    {
      "cell_type": "code",
      "source": [
        "for train_index, val_index in skf.split(X, Y):\n",
        "\n",
        "  transferAllClassBetweenFolders('validation', 'train', 1.0)\n",
        "\n",
        "  foldNum += 1\n",
        "  print(\"Fold Result: \", foldNum)\n",
        "\n",
        "  X_train, X_val = X[train_index], X[val_index]\n",
        "  Y_train, Y_val = Y[train_index], Y[val_index]\n",
        "\n",
        "  for each_index in range(len(X_val)):\n",
        "\n",
        "    class_label = ''\n",
        "    for i in range(len(class_labels)):\n",
        "\n",
        "      if(Y_val[each_index] == i):\n",
        "        class_label = class_labels[i]\n",
        "\n",
        "    shutil.move(dataset_folder_name + '/train/' + class_label + '/' + X_val[each_index],\n",
        "                dataset_folder_name + '/validation/' + class_label + '/' + X_val[each_index])\n",
        "  \n",
        "  train_datagen = ImageDataGenerator(\n",
        "                      rescale = 1./255,\n",
        "                      zoom_range = 0.20,\n",
        "                      fill_mode = \"nearest\")\n",
        "  \n",
        "  validation_datagen = ImageDataGenerator(rescale = 1./255)\n",
        "\n",
        "  test_datagen = ImageDataGenerator(rescale = 1./255)\n",
        "\n",
        "  #Start ImageClassification Model\n",
        "  train_generator = train_datagen.flow_from_directory(\n",
        "      \n",
        "      train_path,\n",
        "      target_size = (image_rows, image_cols),\n",
        "      batch_size = batch_size,\n",
        "      class_mode = 'categorical',\n",
        "      subset = 'training')\n",
        "\n",
        "  validation_generator = validation_datagen.flow_from_directory(\n",
        "      \n",
        "      validation_path,\n",
        "      target_size = (image_rows, image_cols),\n",
        "      batch_size = batch_size,\n",
        "      class_mode = None,  # only data, no labels\n",
        "      shuffle = False)\n",
        "  \n",
        "  # fit model\n",
        "\n",
        "  history = model1.fit_generator(train_generator, \n",
        "                        epochs = epoch\n",
        "                        )\n",
        "    \n",
        "  predictions = model1.predict_generator(validation_generator, verbose=1)\n",
        "  yPredictions = np.argmax(predictions, axis=1)\n",
        "  true_classes = validation_generator.classes\n",
        "\n",
        "  # evaluate validation performance\n",
        "\n",
        "  print(\"***Performance on Validation data***\")    \n",
        "  valAcc, valPrec, valFScore = my_metrics(true_classes, yPredictions)"
      ],
      "metadata": {
        "colab": {
          "base_uri": "https://localhost:8080/"
        },
        "id": "YZpG_O40jEbK",
        "outputId": "774e32fa-fccc-41e6-f7c5-2fe0bb058665"
      },
      "execution_count": 39,
      "outputs": [
        {
          "output_type": "stream",
          "name": "stdout",
          "text": [
            "Fold Result:  1\n",
            "Found 271 images belonging to 2 classes.\n",
            "Found 57 images belonging to 2 classes.\n"
          ]
        },
        {
          "output_type": "stream",
          "name": "stderr",
          "text": [
            "/usr/local/lib/python3.7/dist-packages/ipykernel_launcher.py:51: UserWarning: `Model.fit_generator` is deprecated and will be removed in a future version. Please use `Model.fit`, which supports generators.\n"
          ]
        },
        {
          "output_type": "stream",
          "name": "stdout",
          "text": [
            "Epoch 1/5\n",
            "34/34 [==============================] - 53s 1s/step - loss: 0.3133 - accuracy: 0.8672\n",
            "Epoch 2/5\n",
            "34/34 [==============================] - 43s 1s/step - loss: 0.2248 - accuracy: 0.8893\n",
            "Epoch 3/5\n",
            "34/34 [==============================] - 42s 1s/step - loss: 0.2223 - accuracy: 0.8893\n",
            "Epoch 4/5\n",
            "34/34 [==============================] - 42s 1s/step - loss: 0.2076 - accuracy: 0.9041\n",
            "Epoch 5/5\n",
            "34/34 [==============================] - 42s 1s/step - loss: 0.2172 - accuracy: 0.9151\n"
          ]
        },
        {
          "output_type": "stream",
          "name": "stderr",
          "text": [
            "/usr/local/lib/python3.7/dist-packages/ipykernel_launcher.py:54: UserWarning: `Model.predict_generator` is deprecated and will be removed in a future version. Please use `Model.predict`, which supports generators.\n"
          ]
        },
        {
          "output_type": "stream",
          "name": "stdout",
          "text": [
            "8/8 [==============================] - 28s 4s/step\n",
            "***Performance on Validation data***\n",
            "[[51  0]\n",
            " [ 5  1]]\n",
            "Accuracy  : 0.9122807017543859\n",
            "Precision : 0.9201127819548872\n",
            "Sensitivity: 1.0\n",
            "specificity: 0.16666666666666666\n",
            "f1Score : 0.8830018972665308\n",
            "Fold Result:  2\n",
            "Found 271 images belonging to 2 classes.\n",
            "Found 57 images belonging to 2 classes.\n"
          ]
        },
        {
          "output_type": "stream",
          "name": "stderr",
          "text": [
            "/usr/local/lib/python3.7/dist-packages/ipykernel_launcher.py:51: UserWarning: `Model.fit_generator` is deprecated and will be removed in a future version. Please use `Model.fit`, which supports generators.\n"
          ]
        },
        {
          "output_type": "stream",
          "name": "stdout",
          "text": [
            "Epoch 1/5\n",
            "34/34 [==============================] - 43s 1s/step - loss: 0.1389 - accuracy: 0.9410\n",
            "Epoch 2/5\n",
            "34/34 [==============================] - 43s 1s/step - loss: 0.2106 - accuracy: 0.9262\n",
            "Epoch 3/5\n",
            "34/34 [==============================] - 48s 1s/step - loss: 0.1621 - accuracy: 0.9483\n",
            "Epoch 4/5\n",
            "34/34 [==============================] - 43s 1s/step - loss: 0.2071 - accuracy: 0.9225\n",
            "Epoch 5/5\n",
            "34/34 [==============================] - 48s 1s/step - loss: 0.2052 - accuracy: 0.9410\n"
          ]
        },
        {
          "output_type": "stream",
          "name": "stderr",
          "text": [
            "/usr/local/lib/python3.7/dist-packages/ipykernel_launcher.py:54: UserWarning: `Model.predict_generator` is deprecated and will be removed in a future version. Please use `Model.predict`, which supports generators.\n"
          ]
        },
        {
          "output_type": "stream",
          "name": "stdout",
          "text": [
            "8/8 [==============================] - 5s 560ms/step\n",
            "***Performance on Validation data***\n",
            "[[50  0]\n",
            " [ 3  4]]\n",
            "Accuracy  : 0.9473684210526315\n",
            "Precision : 0.9503475670307845\n",
            "Sensitivity: 1.0\n",
            "specificity: 0.5714285714285714\n",
            "f1Score : 0.9409578668648675\n",
            "Fold Result:  3\n",
            "Found 272 images belonging to 2 classes.\n",
            "Found 56 images belonging to 2 classes.\n"
          ]
        },
        {
          "output_type": "stream",
          "name": "stderr",
          "text": [
            "/usr/local/lib/python3.7/dist-packages/ipykernel_launcher.py:51: UserWarning: `Model.fit_generator` is deprecated and will be removed in a future version. Please use `Model.fit`, which supports generators.\n"
          ]
        },
        {
          "output_type": "stream",
          "name": "stdout",
          "text": [
            "Epoch 1/5\n",
            "34/34 [==============================] - 44s 1s/step - loss: 0.1526 - accuracy: 0.9559\n",
            "Epoch 2/5\n",
            "34/34 [==============================] - 43s 1s/step - loss: 0.0989 - accuracy: 0.9559\n",
            "Epoch 3/5\n",
            "34/34 [==============================] - 43s 1s/step - loss: 0.1071 - accuracy: 0.9706\n",
            "Epoch 4/5\n",
            "34/34 [==============================] - 55s 2s/step - loss: 0.1637 - accuracy: 0.9559\n",
            "Epoch 5/5\n",
            "34/34 [==============================] - 45s 1s/step - loss: 0.0599 - accuracy: 0.9779\n"
          ]
        },
        {
          "output_type": "stream",
          "name": "stderr",
          "text": [
            "/usr/local/lib/python3.7/dist-packages/ipykernel_launcher.py:54: UserWarning: `Model.predict_generator` is deprecated and will be removed in a future version. Please use `Model.predict`, which supports generators.\n"
          ]
        },
        {
          "output_type": "stream",
          "name": "stdout",
          "text": [
            "7/7 [==============================] - 5s 635ms/step\n",
            "***Performance on Validation data***\n",
            "[[50  0]\n",
            " [ 1  5]]\n",
            "Accuracy  : 0.9821428571428571\n",
            "Precision : 0.9824929971988795\n",
            "Sensitivity: 1.0\n",
            "specificity: 0.8333333333333334\n",
            "f1Score : 0.9814195705284813\n",
            "Fold Result:  4\n",
            "Found 272 images belonging to 2 classes.\n",
            "Found 56 images belonging to 2 classes.\n"
          ]
        },
        {
          "output_type": "stream",
          "name": "stderr",
          "text": [
            "/usr/local/lib/python3.7/dist-packages/ipykernel_launcher.py:51: UserWarning: `Model.fit_generator` is deprecated and will be removed in a future version. Please use `Model.fit`, which supports generators.\n"
          ]
        },
        {
          "output_type": "stream",
          "name": "stdout",
          "text": [
            "Epoch 1/5\n",
            "34/34 [==============================] - 44s 1s/step - loss: 0.0439 - accuracy: 0.9853\n",
            "Epoch 2/5\n",
            "34/34 [==============================] - 43s 1s/step - loss: 0.1892 - accuracy: 0.9559\n",
            "Epoch 3/5\n",
            "34/34 [==============================] - 44s 1s/step - loss: 0.1827 - accuracy: 0.9375\n",
            "Epoch 4/5\n",
            "34/34 [==============================] - 43s 1s/step - loss: 0.1679 - accuracy: 0.9375\n",
            "Epoch 5/5\n",
            "34/34 [==============================] - 44s 1s/step - loss: 0.0541 - accuracy: 0.9816\n"
          ]
        },
        {
          "output_type": "stream",
          "name": "stderr",
          "text": [
            "/usr/local/lib/python3.7/dist-packages/ipykernel_launcher.py:54: UserWarning: `Model.predict_generator` is deprecated and will be removed in a future version. Please use `Model.predict`, which supports generators.\n"
          ]
        },
        {
          "output_type": "stream",
          "name": "stdout",
          "text": [
            "7/7 [==============================] - 5s 630ms/step\n",
            "***Performance on Validation data***\n",
            "[[50  0]\n",
            " [ 2  4]]\n",
            "Accuracy  : 0.9642857142857143\n",
            "Precision : 0.9656593406593407\n",
            "Sensitivity: 1.0\n",
            "specificity: 0.6666666666666666\n",
            "f1Score : 0.961064425770308\n",
            "Fold Result:  5\n",
            "Found 272 images belonging to 2 classes.\n",
            "Found 56 images belonging to 2 classes.\n"
          ]
        },
        {
          "output_type": "stream",
          "name": "stderr",
          "text": [
            "/usr/local/lib/python3.7/dist-packages/ipykernel_launcher.py:51: UserWarning: `Model.fit_generator` is deprecated and will be removed in a future version. Please use `Model.fit`, which supports generators.\n"
          ]
        },
        {
          "output_type": "stream",
          "name": "stdout",
          "text": [
            "Epoch 1/5\n",
            "34/34 [==============================] - 43s 1s/step - loss: 0.0693 - accuracy: 0.9779\n",
            "Epoch 2/5\n",
            "34/34 [==============================] - 44s 1s/step - loss: 0.0532 - accuracy: 0.9743\n",
            "Epoch 3/5\n",
            "34/34 [==============================] - 43s 1s/step - loss: 0.0628 - accuracy: 0.9816\n",
            "Epoch 4/5\n",
            "34/34 [==============================] - 43s 1s/step - loss: 0.0817 - accuracy: 0.9706\n",
            "Epoch 5/5\n",
            "34/34 [==============================] - 44s 1s/step - loss: 0.0365 - accuracy: 0.9926\n"
          ]
        },
        {
          "output_type": "stream",
          "name": "stderr",
          "text": [
            "/usr/local/lib/python3.7/dist-packages/ipykernel_launcher.py:54: UserWarning: `Model.predict_generator` is deprecated and will be removed in a future version. Please use `Model.predict`, which supports generators.\n"
          ]
        },
        {
          "output_type": "stream",
          "name": "stdout",
          "text": [
            "7/7 [==============================] - 4s 617ms/step\n",
            "***Performance on Validation data***\n",
            "[[50  0]\n",
            " [ 1  5]]\n",
            "Accuracy  : 0.9821428571428571\n",
            "Precision : 0.9824929971988795\n",
            "Sensitivity: 1.0\n",
            "specificity: 0.8333333333333334\n",
            "f1Score : 0.9814195705284813\n"
          ]
        }
      ]
    },
    {
      "cell_type": "code",
      "source": [
        "from tensorflow.keras.preprocessing.image import ImageDataGenerator\n",
        "from tensorflow.keras.preprocessing import image"
      ],
      "metadata": {
        "id": "XxuGcDXuYRHz"
      },
      "execution_count": 49,
      "outputs": []
    },
    {
      "cell_type": "code",
      "source": [
        "train_datagen = ImageDataGenerator(\n",
        "                      rescale = 1./255,\n",
        "                      zoom_range = 0.20,\n",
        "                      fill_mode = \"nearest\")\n",
        "  \n",
        "validation_datagen = ImageDataGenerator(rescale = 1./255)\n",
        "\n",
        "test_datagen = ImageDataGenerator(rescale = 1./255)\n",
        "\n",
        "#Start ImageClassification Model\n",
        "train_generator = train_datagen.flow_from_directory(\n",
        "      \n",
        "    train_path,\n",
        "    target_size = (image_rows, image_cols),\n",
        "    batch_size = batch_size,\n",
        "    class_mode = 'categorical',\n",
        "    subset = 'training')\n",
        "\n",
        "validation_generator = validation_datagen.flow_from_directory(\n",
        "      \n",
        "    validation_path,\n",
        "    target_size = (image_rows, image_cols),\n",
        "    batch_size = batch_size,\n",
        "    class_mode = None,  # only data, no labels\n",
        "    shuffle = False)"
      ],
      "metadata": {
        "id": "JrC4oX7pV6ji",
        "outputId": "dc34472d-8104-4599-b914-ed2cb43f2ff5",
        "colab": {
          "base_uri": "https://localhost:8080/"
        }
      },
      "execution_count": 50,
      "outputs": [
        {
          "output_type": "stream",
          "name": "stdout",
          "text": [
            "Found 272 images belonging to 2 classes.\n",
            "Found 56 images belonging to 2 classes.\n"
          ]
        }
      ]
    },
    {
      "cell_type": "code",
      "source": [
        "print('=============== Test Result ==============')\n",
        "\n",
        "test_generator = test_datagen.flow_from_directory(test_path,\n",
        "                                                  target_size = (image_rows, image_cols),\n",
        "                                                  batch_size = batch_size,\n",
        "                                                  class_mode = None,\n",
        "                                                  shuffle = False)\n",
        "\n",
        "predictions = model1.predict(test_generator, verbose = 1)\n",
        "yPredictions = np.argmax(predictions, axis=1)\n",
        "true_classes = test_generator.classes\n",
        "\n",
        "testAcc,testPrec, testFScore = my_metrics(true_classes, yPredictions)\n",
        "model1.save(model_file_name)"
      ],
      "metadata": {
        "id": "JB4DcB0Jj4Hi",
        "outputId": "eb5e1dfa-2594-4170-e1df-f2eddba1d8f9",
        "colab": {
          "base_uri": "https://localhost:8080/"
        }
      },
      "execution_count": 57,
      "outputs": [
        {
          "output_type": "stream",
          "name": "stdout",
          "text": [
            "=============== Test Result ==============\n",
            "Found 69 images belonging to 2 classes.\n",
            "9/9 [==============================] - 33s 4s/step\n",
            "[[62  0]\n",
            " [ 1  6]]\n",
            "Accuracy  : 0.9855072463768116\n",
            "Precision : 0.9857372900851161\n",
            "Sensitivity: 1.0\n",
            "specificity: 0.8571428571428571\n",
            "f1Score : 0.9850078037904124\n"
          ]
        }
      ]
    },
    {
      "cell_type": "code",
      "source": [
        "from sklearn.metrics import roc_curve\n",
        "from sklearn.metrics import roc_auc_score"
      ],
      "metadata": {
        "id": "X_Xv8rMm_loy"
      },
      "execution_count": 66,
      "outputs": []
    },
    {
      "cell_type": "code",
      "source": [
        "def plot_roc_curve(fpr, tpr):\n",
        "    plt.plot(fpr, tpr, color='orange', label='ROC')\n",
        "    plt.plot([0, 1], [0, 1], color='darkblue', linestyle='--')\n",
        "    plt.xlabel('False Positive Rate')\n",
        "    plt.ylabel('True Positive Rate')\n",
        "    plt.title('Receiver Operating Characteristic (ROC) Curve')\n",
        "    plt.legend()\n",
        "    plt.show()"
      ],
      "metadata": {
        "id": "4ZmTh9u1_nuK"
      },
      "execution_count": 67,
      "outputs": []
    },
    {
      "cell_type": "code",
      "source": [
        "# predict probabilities\n",
        "pred_prob1 = model1.predict(test_generator)"
      ],
      "metadata": {
        "id": "pgjCZJulzRvE"
      },
      "execution_count": 68,
      "outputs": []
    },
    {
      "cell_type": "code",
      "source": [
        "from sklearn.metrics import roc_curve"
      ],
      "metadata": {
        "id": "U6PuiXk-zb9F"
      },
      "execution_count": 69,
      "outputs": []
    },
    {
      "cell_type": "code",
      "source": [
        "# roc curve for models\n",
        "fpr1, tpr1, thresh1 = roc_curve(yPredictions, pred_prob1[:,1], pos_label=1)\n",
        "\n",
        "# roc curve for tpr = fpr \n",
        "random_probs = [0 for i in range(len(yPredictions))]\n",
        "p_fpr, p_tpr, _ = roc_curve(yPredictions, random_probs, pos_label=1)"
      ],
      "metadata": {
        "id": "0_mBxrImzk7Q"
      },
      "execution_count": 70,
      "outputs": []
    },
    {
      "cell_type": "code",
      "source": [
        "from sklearn.metrics import roc_auc_score\n",
        "\n",
        "# auc scores\n",
        "auc_score1 = roc_auc_score(yPredictions, pred_prob1[:,1])\n",
        "\n",
        "print(\"Area Under Curve: \", auc_score1)"
      ],
      "metadata": {
        "id": "f-uNbpmC0Fwm",
        "outputId": "eca966ac-1e0a-4cdb-919a-6f4d86d4e95d",
        "colab": {
          "base_uri": "https://localhost:8080/"
        }
      },
      "execution_count": 71,
      "outputs": [
        {
          "output_type": "stream",
          "name": "stdout",
          "text": [
            "Area Under Curve:  1.0\n"
          ]
        }
      ]
    },
    {
      "cell_type": "code",
      "source": [
        "plt.style.use('seaborn')\n",
        "\n",
        "# plot roc curves\n",
        "plt.plot(fpr1, tpr1, linestyle='--',color='orange', label='Our Model')\n",
        "#plt.plot(fpr2, tpr2, linestyle='--',color='green', label='VGG16')\n",
        "plt.plot(p_fpr, p_tpr, linestyle='--', color='blue')\n",
        "# title\n",
        "plt.title('ROC curve')\n",
        "# x label\n",
        "plt.xlabel('False Positive Rate')\n",
        "# y label\n",
        "plt.ylabel('True Positive rate')\n",
        "\n",
        "plt.legend(loc='best')\n",
        "plt.savefig('ROC',dpi=300)\n",
        "plt.show();"
      ],
      "metadata": {
        "id": "N7QrK4gA0mz0",
        "outputId": "e11f231b-84b0-44d3-a7f9-6f0f34520364",
        "colab": {
          "base_uri": "https://localhost:8080/",
          "height": 376
        }
      },
      "execution_count": 72,
      "outputs": [
        {
          "output_type": "display_data",
          "data": {
            "text/plain": [
              "<Figure size 576x396 with 1 Axes>"
            ],
            "image/png": "[encoded data removed]"
          },
          "metadata": {}
        }
      ]
    }
  ]
}