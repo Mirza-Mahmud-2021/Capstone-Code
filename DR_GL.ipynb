{
  "nbformat": 4,
  "nbformat_minor": 0,
  "metadata": {
    "colab": {
      "name": "DR-GL.ipynb",
      "provenance": []
    },
    "kernelspec": {
      "name": "python3",
      "display_name": "Python 3"
    },
    "language_info": {
      "name": "python"
    },
    "accelerator": "GPU"
  },
  "cells": [
    {
      "cell_type": "code",
      "execution_count": 67,
      "metadata": {
        "id": "aK6WDl-hgciC"
      },
      "outputs": [],
      "source": [
        "google_colab_flag = True"
      ]
    },
    {
      "cell_type": "code",
      "source": [
        "from google.colab import drive\n",
        "import sys"
      ],
      "metadata": {
        "id": "cCUl0ifehTWs"
      },
      "execution_count": 68,
      "outputs": []
    },
    {
      "cell_type": "code",
      "source": [
        "if(google_colab_flag):\n",
        "\n",
        "  drive.mount('/content/drive')\n",
        "  root_path = '/content/drive/MyDrive/Eye-Diseases-Data/DR-GL/'\n",
        "  sys.path.append(root_path)\n",
        "\n",
        "else:\n",
        "  root_path = ''"
      ],
      "metadata": {
        "colab": {
          "base_uri": "https://localhost:8080/"
        },
        "id": "Ag9Uje9yhV6y",
        "outputId": "4bdc6de0-aab8-45c8-8f9f-97a5d6c0b111"
      },
      "execution_count": 69,
      "outputs": [
        {
          "output_type": "stream",
          "name": "stdout",
          "text": [
            "Drive already mounted at /content/drive; to attempt to forcibly remount, call drive.mount(\"/content/drive\", force_remount=True).\n"
          ]
        }
      ]
    },
    {
      "cell_type": "code",
      "source": [
        "import numpy as np\n",
        "from sklearn.metrics import confusion_matrix, accuracy_score, precision_score, f1_score \n",
        "from sklearn.model_selection import StratifiedKFold\n",
        "from PIL import Image\n",
        "from glob import glob\n",
        "import random\n",
        "import keras\n",
        "import tensorflow as tf\n",
        "from tensorflow import keras\n",
        "import warnings\n",
        "import os\n",
        "import shutil\n",
        "from PIL import ImageFile\n",
        "\n",
        "from tensorflow.keras.preprocessing.image import ImageDataGenerator\n",
        "from tensorflow.keras.preprocessing import image\n",
        "\n",
        "from tensorflow.keras import layers\n",
        "from tensorflow.keras.models import Sequential, Model\n",
        "from tensorflow.keras.layers import Dense\n",
        "from tensorflow.keras.layers import Dropout\n",
        "from tensorflow.keras.layers import Flatten\n",
        "from tensorflow.keras.layers import Conv2D\n",
        "from tensorflow.keras.layers import MaxPool2D"
      ],
      "metadata": {
        "id": "u2fw3JhJhX5T"
      },
      "execution_count": 70,
      "outputs": []
    },
    {
      "cell_type": "code",
      "source": [
        "import matplotlib.pyplot as plt\n",
        "import tensorflow as tf\n",
        "import pandas as pd\n",
        "import numpy as np\n",
        "import cv2 as cv\n",
        "import os"
      ],
      "metadata": {
        "id": "7IWjH4sWhY_s"
      },
      "execution_count": 71,
      "outputs": []
    },
    {
      "cell_type": "code",
      "source": [
        "from tensorflow.compat.v1 import ConfigProto\n",
        "from tensorflow.compat.v1 import InteractiveSession"
      ],
      "metadata": {
        "id": "JdjMUnkzjfVL"
      },
      "execution_count": 72,
      "outputs": []
    },
    {
      "cell_type": "code",
      "source": [
        "warnings.simplefilter('error', Image.DecompressionBombWarning)\n",
        "ImageFile.LOAD_TRUNCATED_IMAGES = True"
      ],
      "metadata": {
        "id": "-QAmSi8bha8y"
      },
      "execution_count": 73,
      "outputs": []
    },
    {
      "cell_type": "code",
      "source": [
        "Image.MAX_IMAGE_PIXELS = 1000000000\n",
        "config = ConfigProto()\n",
        "config.gpu_options.allow_growth = True\n",
        "session = InteractiveSession(config=config)"
      ],
      "metadata": {
        "colab": {
          "base_uri": "https://localhost:8080/"
        },
        "id": "bxdQ45dLheSM",
        "outputId": "34f51c14-c699-4f7e-c3ec-f4fdefe07a9a"
      },
      "execution_count": 74,
      "outputs": [
        {
          "output_type": "stream",
          "name": "stderr",
          "text": [
            "/usr/local/lib/python3.7/dist-packages/tensorflow/python/client/session.py:1768: UserWarning: An interactive session is already active. This can cause out-of-memory errors in some cases. You must explicitly call `InteractiveSession.close()` to release resources held by the other session(s).\n",
            "  warnings.warn('An interactive session is already active. This can '\n"
          ]
        }
      ]
    },
    {
      "cell_type": "code",
      "source": [
        "dataset_folder_name = root_path + 'Dataset'\n",
        "\n",
        "model_file_name = root_path + 'model_cv.h5'"
      ],
      "metadata": {
        "id": "2R4U_DNMhhux"
      },
      "execution_count": 75,
      "outputs": []
    },
    {
      "cell_type": "code",
      "source": [
        "source_files = []\n",
        "class_labels = ['diabetic-retinopathy', 'glaucoma']\n",
        "\n",
        "X = []\n",
        "Y = []"
      ],
      "metadata": {
        "id": "QKnyYLtdhkCy"
      },
      "execution_count": 76,
      "outputs": []
    },
    {
      "cell_type": "code",
      "source": [
        "image_rows, image_cols = 200, 200\n",
        "\n",
        "train_path = dataset_folder_name + '/train/'\n",
        "validation_path = dataset_folder_name + '/validation/'\n",
        "test_path = dataset_folder_name + '/test/'"
      ],
      "metadata": {
        "id": "UdEyfpq6htGp"
      },
      "execution_count": 77,
      "outputs": []
    },
    {
      "cell_type": "code",
      "source": [
        "def transferBetweenFolders(source, dest, splitRate):\n",
        "\n",
        "  global source_files\n",
        "  source_files = os.listdir(source)\n",
        "\n",
        "  if(len(source_files) != 0):\n",
        "\n",
        "    transfer_file_numbers = int(len(source_files) * splitRate)\n",
        "    transfer_index = random.sample(range(0, len(source_files)), transfer_file_numbers)\n",
        "\n",
        "    for each_index in transfer_index:\n",
        "\n",
        "      shutil.move(source + str(source_files[each_index]), dest + str(source_files[each_index]))\n",
        "\n",
        "  else:\n",
        "    \n",
        "   print(\"No file moved. Source empty!\")"
      ],
      "metadata": {
        "id": "InS8SvPwhxlZ"
      },
      "execution_count": 78,
      "outputs": []
    },
    {
      "cell_type": "code",
      "source": [
        "def transferAllClassBetweenFolders(source, dest, splitRate):\n",
        "\n",
        "  for label in class_labels:\n",
        "\n",
        "    transferBetweenFolders(dataset_folder_name + '/' + source + '/' + label + '/',\n",
        "                                   dataset_folder_name + '/' + dest + '/' + label + '/',\n",
        "                                   splitRate)"
      ],
      "metadata": {
        "id": "NnHcUFu8hzoZ"
      },
      "execution_count": 79,
      "outputs": []
    },
    {
      "cell_type": "code",
      "source": [
        "def my_metrics(y_true, y_pred):\n",
        "\n",
        "  confusionMatrix = confusion_matrix(y_true, y_pred)\n",
        "  print(confusionMatrix)\n",
        "\n",
        "  accuracy = accuracy_score(y_true, y_pred)\n",
        "  precision = precision_score(y_true, y_pred, average= 'weighted')\n",
        "  sensitivity = confusionMatrix[0, 0] / (confusionMatrix[0,0] + confusionMatrix[0,1])\n",
        "  specificity = confusionMatrix[1,1]/(confusionMatrix[1,0] + confusionMatrix[1,1])\n",
        "  f1Score = f1_score(y_true, y_pred, average= 'weighted')\n",
        "\n",
        "\n",
        "  print(\"Accuracy  : {}\".format(accuracy))\n",
        "  print(\"Precision : {}\".format(precision))\n",
        "  print(\"Sensitivity: {}\".format(sensitivity))\n",
        "  print(\"specificity: {}\".format(specificity))\n",
        "  print(\"f1Score : {}\".format(f1Score))\n",
        "\n",
        "  return accuracy, precision, f1Score"
      ],
      "metadata": {
        "id": "F_wT_1ikh9ih"
      },
      "execution_count": 80,
      "outputs": []
    },
    {
      "cell_type": "code",
      "source": [
        "transferAllClassBetweenFolders('test', 'train', 1.0)"
      ],
      "metadata": {
        "id": "fiAijs0jh_ip"
      },
      "execution_count": 81,
      "outputs": []
    },
    {
      "cell_type": "code",
      "source": [
        "transferAllClassBetweenFolders('train', 'test', 0.2)"
      ],
      "metadata": {
        "id": "W7g_GcvviA-h"
      },
      "execution_count": 82,
      "outputs": []
    },
    {
      "cell_type": "code",
      "source": [
        "def prepareNameWithLabels(folder_name):\n",
        "\n",
        "    source_files = os.listdir(dataset_folder_name +'/train/'+ folder_name)\n",
        "    for val in source_files:\n",
        "      \n",
        "        X.append(val)\n",
        "        for i in range(len(class_labels)):\n",
        "          if(folder_name == class_labels[i]):\n",
        "              Y.append(i)"
      ],
      "metadata": {
        "id": "oDOtvZCBiFIJ"
      },
      "execution_count": 83,
      "outputs": []
    },
    {
      "cell_type": "code",
      "source": [
        "# Organize file names and class labels in X and Y variables\n",
        "\n",
        "for i in range(len(class_labels)):\n",
        "  \n",
        "  prepareNameWithLabels(class_labels[i])"
      ],
      "metadata": {
        "id": "F_bFWtPAiIDq"
      },
      "execution_count": 84,
      "outputs": []
    },
    {
      "cell_type": "code",
      "source": [
        "X = np.asarray(X)\n",
        "Y = np.asarray(Y)"
      ],
      "metadata": {
        "id": "kE8sPu-qiJLy"
      },
      "execution_count": 85,
      "outputs": []
    },
    {
      "cell_type": "code",
      "source": [
        "batch_size = 8\n",
        "epoch = 3"
      ],
      "metadata": {
        "id": "F1K_werdiK6j"
      },
      "execution_count": 86,
      "outputs": []
    },
    {
      "cell_type": "code",
      "source": [
        "model1 = Sequential()\n",
        "\n",
        "# 1st layers\n",
        "model1.add(Conv2D(filters= 16, kernel_size= 3, activation= 'relu', input_shape=(image_rows, image_cols, 3)))\n",
        "model1.add(Conv2D(filters= 16, kernel_size= 3, activation= 'relu'))\n",
        "model1.add(MaxPool2D(2, 2))\n",
        "\n",
        "# 2nd layers\n",
        "model1.add(Conv2D(filters= 32, kernel_size= 3, activation= 'relu'))\n",
        "model1.add(Conv2D(filters= 32, kernel_size= 3, activation= 'relu'))\n",
        "model1.add(MaxPool2D(2, 2))\n",
        "\n",
        "# 3rd layers\n",
        "model1.add(Conv2D(filters= 64, kernel_size= 3, activation= 'relu'))\n",
        "model1.add(Conv2D(filters= 64, kernel_size= 3, activation= 'relu'))\n",
        "model1.add(MaxPool2D(2, 2))\n",
        "\n",
        "model1.add(Flatten())\n",
        "\n",
        "model1.add(Dense(512, activation= 'relu'))\n",
        "model1.add(Dense(len(class_labels), activation= 'sigmoid'))"
      ],
      "metadata": {
        "id": "4DSRbgVWiNVj"
      },
      "execution_count": 87,
      "outputs": []
    },
    {
      "cell_type": "code",
      "source": [
        "model1.compile(optimizer='adam', loss='binary_crossentropy', metrics=['accuracy'])"
      ],
      "metadata": {
        "id": "ptd69P7_iRvV"
      },
      "execution_count": 88,
      "outputs": []
    },
    {
      "cell_type": "code",
      "source": [
        "model1.summary()"
      ],
      "metadata": {
        "colab": {
          "base_uri": "https://localhost:8080/"
        },
        "id": "WYSrZKdyiT2i",
        "outputId": "66bbf2a3-5966-45b7-e6a0-395a2c0b948c"
      },
      "execution_count": 89,
      "outputs": [
        {
          "output_type": "stream",
          "name": "stdout",
          "text": [
            "Model: \"sequential_2\"\n",
            "_________________________________________________________________\n",
            " Layer (type)                Output Shape              Param #   \n",
            "=================================================================\n",
            " conv2d_12 (Conv2D)          (None, 198, 198, 16)      448       \n",
            "                                                                 \n",
            " conv2d_13 (Conv2D)          (None, 196, 196, 16)      2320      \n",
            "                                                                 \n",
            " max_pooling2d_6 (MaxPooling  (None, 98, 98, 16)       0         \n",
            " 2D)                                                             \n",
            "                                                                 \n",
            " conv2d_14 (Conv2D)          (None, 96, 96, 32)        4640      \n",
            "                                                                 \n",
            " conv2d_15 (Conv2D)          (None, 94, 94, 32)        9248      \n",
            "                                                                 \n",
            " max_pooling2d_7 (MaxPooling  (None, 47, 47, 32)       0         \n",
            " 2D)                                                             \n",
            "                                                                 \n",
            " conv2d_16 (Conv2D)          (None, 45, 45, 64)        18496     \n",
            "                                                                 \n",
            " conv2d_17 (Conv2D)          (None, 43, 43, 64)        36928     \n",
            "                                                                 \n",
            " max_pooling2d_8 (MaxPooling  (None, 21, 21, 64)       0         \n",
            " 2D)                                                             \n",
            "                                                                 \n",
            " flatten_2 (Flatten)         (None, 28224)             0         \n",
            "                                                                 \n",
            " dense_4 (Dense)             (None, 512)               14451200  \n",
            "                                                                 \n",
            " dense_5 (Dense)             (None, 2)                 1026      \n",
            "                                                                 \n",
            "=================================================================\n",
            "Total params: 14,524,306\n",
            "Trainable params: 14,524,306\n",
            "Non-trainable params: 0\n",
            "_________________________________________________________________\n"
          ]
        }
      ]
    },
    {
      "cell_type": "code",
      "source": [
        "skf = StratifiedKFold(n_splits = 5, shuffle=True)\n",
        "skf.get_n_splits(X, Y)\n",
        "\n",
        "foldNum=0"
      ],
      "metadata": {
        "id": "8y6GBPhMiXGL"
      },
      "execution_count": 90,
      "outputs": []
    },
    {
      "cell_type": "code",
      "source": [
        "for train_index, val_index in skf.split(X, Y):\n",
        "\n",
        "  transferAllClassBetweenFolders('validation', 'train', 1.0)\n",
        "\n",
        "  foldNum += 1\n",
        "  print(\"Fold Result: \", foldNum)\n",
        "\n",
        "  X_train, X_val = X[train_index], X[val_index]\n",
        "  Y_train, Y_val = Y[train_index], Y[val_index]\n",
        "\n",
        "  for each_index in range(len(X_val)):\n",
        "\n",
        "    class_label = ''\n",
        "    for i in range(len(class_labels)):\n",
        "\n",
        "      if(Y_val[each_index] == i):\n",
        "        class_label = class_labels[i]\n",
        "\n",
        "    shutil.move(dataset_folder_name + '/train/' + class_label + '/' + X_val[each_index],\n",
        "                dataset_folder_name + '/validation/' + class_label + '/' + X_val[each_index])\n",
        "  \n",
        "  train_datagen = ImageDataGenerator(\n",
        "                      rescale = 1./255,\n",
        "                      zoom_range = 0.20,\n",
        "                      fill_mode = \"nearest\")\n",
        "  \n",
        "  validation_datagen = ImageDataGenerator(rescale = 1./255)\n",
        "\n",
        "  test_datagen = ImageDataGenerator(rescale = 1./255)\n",
        "\n",
        "  #Start ImageClassification Model\n",
        "  train_generator = train_datagen.flow_from_directory(\n",
        "      \n",
        "      train_path,\n",
        "      target_size = (image_rows, image_cols),\n",
        "      batch_size = batch_size,\n",
        "      class_mode = 'categorical',\n",
        "      subset = 'training')\n",
        "\n",
        "  validation_generator = validation_datagen.flow_from_directory(\n",
        "      \n",
        "      validation_path,\n",
        "      target_size = (image_rows, image_cols),\n",
        "      batch_size = batch_size,\n",
        "      class_mode = None,  # only data, no labels\n",
        "      shuffle = False)\n",
        "  \n",
        "  # fit model\n",
        "\n",
        "  history = model1.fit_generator(train_generator, \n",
        "                        epochs = epoch,\n",
        "                        )\n",
        "    \n",
        "  predictions = model1.predict_generator(validation_generator, verbose=1)\n",
        "  yPredictions = np.argmax(predictions, axis=1)\n",
        "  true_classes = validation_generator.classes\n",
        "\n",
        "  # evaluate validation performance\n",
        "\n",
        "  print(\"***Performance on Validation data***\")    \n",
        "  valAcc, valPrec, valFScore = my_metrics(true_classes, yPredictions)"
      ],
      "metadata": {
        "colab": {
          "base_uri": "https://localhost:8080/"
        },
        "id": "byL-A5reibm0",
        "outputId": "ea8b20b5-598c-4489-aa57-f8b3d3e94166"
      },
      "execution_count": 91,
      "outputs": [
        {
          "output_type": "stream",
          "name": "stdout",
          "text": [
            "No file moved. Source empty!\n",
            "Fold Result:  1\n",
            "Found 2717 images belonging to 2 classes.\n",
            "Found 602 images belonging to 2 classes.\n"
          ]
        },
        {
          "output_type": "stream",
          "name": "stderr",
          "text": [
            "/usr/local/lib/python3.7/dist-packages/ipykernel_launcher.py:51: UserWarning: `Model.fit_generator` is deprecated and will be removed in a future version. Please use `Model.fit`, which supports generators.\n"
          ]
        },
        {
          "output_type": "stream",
          "name": "stdout",
          "text": [
            "Epoch 1/3\n",
            "340/340 [==============================] - 342s 1s/step - loss: 0.3761 - accuracy: 0.8399\n",
            "Epoch 2/3\n",
            "340/340 [==============================] - 338s 993ms/step - loss: 0.2694 - accuracy: 0.8767\n",
            "Epoch 3/3\n",
            "340/340 [==============================] - 337s 992ms/step - loss: 0.2456 - accuracy: 0.9036\n"
          ]
        },
        {
          "output_type": "stream",
          "name": "stderr",
          "text": [
            "/usr/local/lib/python3.7/dist-packages/ipykernel_launcher.py:54: UserWarning: `Model.predict_generator` is deprecated and will be removed in a future version. Please use `Model.predict`, which supports generators.\n"
          ]
        },
        {
          "output_type": "stream",
          "name": "stdout",
          "text": [
            "76/76 [==============================] - 29s 385ms/step\n",
            "***Performance on Validation data***\n",
            "[[434   9]\n",
            " [ 25 134]]\n",
            "Accuracy  : 0.9435215946843853\n",
            "Precision : 0.9432964562923524\n",
            "Sensitivity: 0.9796839729119639\n",
            "specificity: 0.8427672955974843\n",
            "f1Score : 0.9425263951075988\n",
            "Fold Result:  2\n",
            "Found 2717 images belonging to 2 classes.\n",
            "Found 602 images belonging to 2 classes.\n"
          ]
        },
        {
          "output_type": "stream",
          "name": "stderr",
          "text": [
            "/usr/local/lib/python3.7/dist-packages/ipykernel_launcher.py:51: UserWarning: `Model.fit_generator` is deprecated and will be removed in a future version. Please use `Model.fit`, which supports generators.\n"
          ]
        },
        {
          "output_type": "stream",
          "name": "stdout",
          "text": [
            "Epoch 1/3\n",
            "340/340 [==============================] - 339s 995ms/step - loss: 0.1697 - accuracy: 0.9308\n",
            "Epoch 2/3\n",
            "340/340 [==============================] - 337s 991ms/step - loss: 0.1547 - accuracy: 0.9411\n",
            "Epoch 3/3\n",
            "340/340 [==============================] - 338s 992ms/step - loss: 0.0965 - accuracy: 0.9643\n"
          ]
        },
        {
          "output_type": "stream",
          "name": "stderr",
          "text": [
            "/usr/local/lib/python3.7/dist-packages/ipykernel_launcher.py:54: UserWarning: `Model.predict_generator` is deprecated and will be removed in a future version. Please use `Model.predict`, which supports generators.\n"
          ]
        },
        {
          "output_type": "stream",
          "name": "stdout",
          "text": [
            "76/76 [==============================] - 29s 376ms/step\n",
            "***Performance on Validation data***\n",
            "[[433  10]\n",
            " [ 16 143]]\n",
            "Accuracy  : 0.9568106312292359\n",
            "Precision : 0.956514371429413\n",
            "Sensitivity: 0.9774266365688488\n",
            "specificity: 0.89937106918239\n",
            "f1Score : 0.9565406045617747\n",
            "Fold Result:  3\n",
            "Found 2717 images belonging to 2 classes.\n",
            "Found 602 images belonging to 2 classes.\n"
          ]
        },
        {
          "output_type": "stream",
          "name": "stderr",
          "text": [
            "/usr/local/lib/python3.7/dist-packages/ipykernel_launcher.py:51: UserWarning: `Model.fit_generator` is deprecated and will be removed in a future version. Please use `Model.fit`, which supports generators.\n"
          ]
        },
        {
          "output_type": "stream",
          "name": "stdout",
          "text": [
            "Epoch 1/3\n",
            "340/340 [==============================] - 341s 1s/step - loss: 0.0732 - accuracy: 0.9735\n",
            "Epoch 2/3\n",
            "340/340 [==============================] - 336s 987ms/step - loss: 0.0752 - accuracy: 0.9768\n",
            "Epoch 3/3\n",
            "340/340 [==============================] - 336s 988ms/step - loss: 0.0548 - accuracy: 0.9831\n"
          ]
        },
        {
          "output_type": "stream",
          "name": "stderr",
          "text": [
            "/usr/local/lib/python3.7/dist-packages/ipykernel_launcher.py:54: UserWarning: `Model.predict_generator` is deprecated and will be removed in a future version. Please use `Model.predict`, which supports generators.\n"
          ]
        },
        {
          "output_type": "stream",
          "name": "stdout",
          "text": [
            "76/76 [==============================] - 29s 387ms/step\n",
            "***Performance on Validation data***\n",
            "[[434   9]\n",
            " [  1 158]]\n",
            "Accuracy  : 0.9833887043189369\n",
            "Precision : 0.9840743304318159\n",
            "Sensitivity: 0.9796839729119639\n",
            "specificity: 0.9937106918238994\n",
            "f1Score : 0.9835168460131939\n",
            "Fold Result:  4\n",
            "Found 2717 images belonging to 2 classes.\n",
            "Found 602 images belonging to 2 classes.\n"
          ]
        },
        {
          "output_type": "stream",
          "name": "stderr",
          "text": [
            "/usr/local/lib/python3.7/dist-packages/ipykernel_launcher.py:51: UserWarning: `Model.fit_generator` is deprecated and will be removed in a future version. Please use `Model.fit`, which supports generators.\n"
          ]
        },
        {
          "output_type": "stream",
          "name": "stdout",
          "text": [
            "Epoch 1/3\n",
            "340/340 [==============================] - 338s 994ms/step - loss: 0.0614 - accuracy: 0.9798\n",
            "Epoch 2/3\n",
            "340/340 [==============================] - 335s 985ms/step - loss: 0.0441 - accuracy: 0.9860\n",
            "Epoch 3/3\n",
            "340/340 [==============================] - 334s 983ms/step - loss: 0.0348 - accuracy: 0.9879\n"
          ]
        },
        {
          "output_type": "stream",
          "name": "stderr",
          "text": [
            "/usr/local/lib/python3.7/dist-packages/ipykernel_launcher.py:54: UserWarning: `Model.predict_generator` is deprecated and will be removed in a future version. Please use `Model.predict`, which supports generators.\n"
          ]
        },
        {
          "output_type": "stream",
          "name": "stdout",
          "text": [
            "76/76 [==============================] - 28s 369ms/step\n",
            "***Performance on Validation data***\n",
            "[[442   1]\n",
            " [  1 158]]\n",
            "Accuracy  : 0.9966777408637874\n",
            "Precision : 0.9966777408637874\n",
            "Sensitivity: 0.9977426636568849\n",
            "specificity: 0.9937106918238994\n",
            "f1Score : 0.9966777408637874\n",
            "Fold Result:  5\n",
            "Found 2717 images belonging to 2 classes.\n",
            "Found 602 images belonging to 2 classes.\n"
          ]
        },
        {
          "output_type": "stream",
          "name": "stderr",
          "text": [
            "/usr/local/lib/python3.7/dist-packages/ipykernel_launcher.py:51: UserWarning: `Model.fit_generator` is deprecated and will be removed in a future version. Please use `Model.fit`, which supports generators.\n"
          ]
        },
        {
          "output_type": "stream",
          "name": "stdout",
          "text": [
            "Epoch 1/3\n",
            "340/340 [==============================] - 337s 991ms/step - loss: 0.0399 - accuracy: 0.9875\n",
            "Epoch 2/3\n",
            "340/340 [==============================] - 335s 983ms/step - loss: 0.0254 - accuracy: 0.9930\n",
            "Epoch 3/3\n",
            "340/340 [==============================] - 334s 983ms/step - loss: 0.0372 - accuracy: 0.9890\n"
          ]
        },
        {
          "output_type": "stream",
          "name": "stderr",
          "text": [
            "/usr/local/lib/python3.7/dist-packages/ipykernel_launcher.py:54: UserWarning: `Model.predict_generator` is deprecated and will be removed in a future version. Please use `Model.predict`, which supports generators.\n"
          ]
        },
        {
          "output_type": "stream",
          "name": "stdout",
          "text": [
            "76/76 [==============================] - 28s 369ms/step\n",
            "***Performance on Validation data***\n",
            "[[438   4]\n",
            " [  0 160]]\n",
            "Accuracy  : 0.9933554817275747\n",
            "Precision : 0.9935175431488534\n",
            "Sensitivity: 0.9909502262443439\n",
            "specificity: 1.0\n",
            "f1Score : 0.9933813960945744\n"
          ]
        }
      ]
    },
    {
      "cell_type": "code",
      "source": [
        "print('=============== Test Result ==============')\n",
        "\n",
        "test_generator = test_datagen.flow_from_directory(test_path,\n",
        "                                                  target_size = (image_rows, image_cols),\n",
        "                                                  batch_size = batch_size,\n",
        "                                                  class_mode = None,\n",
        "                                                  shuffle = False)\n",
        "\n",
        "predictions = model1.predict(test_generator, verbose = 1)\n",
        "yPredictions = np.argmax(predictions, axis=1)\n",
        "true_classes = test_generator.classes\n",
        "\n",
        "testAcc,testPrec, testFScore = my_metrics(true_classes, yPredictions)\n",
        "model1.save(model_file_name)"
      ],
      "metadata": {
        "colab": {
          "base_uri": "https://localhost:8080/"
        },
        "id": "e3-5dLEkifYL",
        "outputId": "2f1a987a-6ea2-414d-e127-9782d9130106"
      },
      "execution_count": 92,
      "outputs": [
        {
          "output_type": "stream",
          "name": "stdout",
          "text": [
            "=============== Test Result ==============\n",
            "Found 751 images belonging to 2 classes.\n",
            "94/94 [==============================] - 36s 383ms/step\n",
            "[[549   4]\n",
            " [  2 196]]\n",
            "Accuracy  : 0.9920106524633822\n",
            "Precision : 0.9920542482980949\n",
            "Sensitivity: 0.9927667269439421\n",
            "specificity: 0.98989898989899\n",
            "f1Score : 0.9920234894730701\n"
          ]
        }
      ]
    },
    {
      "cell_type": "code",
      "source": [
        "from sklearn.metrics import roc_curve\n",
        "from sklearn.metrics import roc_auc_score"
      ],
      "metadata": {
        "id": "kHOwmeOgigsT"
      },
      "execution_count": 93,
      "outputs": []
    },
    {
      "cell_type": "code",
      "source": [
        "def plot_roc_curve(fpr, tpr):\n",
        "    plt.plot(fpr, tpr, color='orange', label='ROC')\n",
        "    plt.plot([0, 1], [0, 1], color='darkblue', linestyle='--')\n",
        "    plt.xlabel('False Positive Rate')\n",
        "    plt.ylabel('True Positive Rate')\n",
        "    plt.title('Receiver Operating Characteristic (ROC) Curve')\n",
        "    plt.legend()\n",
        "    plt.show()"
      ],
      "metadata": {
        "id": "h5Yaa2jQiimO"
      },
      "execution_count": 94,
      "outputs": []
    },
    {
      "cell_type": "code",
      "source": [
        "# predict probabilities\n",
        "pred_prob1 = model1.predict(test_generator)"
      ],
      "metadata": {
        "id": "PM9LDJkgim4r"
      },
      "execution_count": 95,
      "outputs": []
    },
    {
      "cell_type": "code",
      "source": [
        "# roc curve for models\n",
        "fpr1, tpr1, thresh1 = roc_curve(yPredictions, pred_prob1[:,1], pos_label=1)\n",
        "\n",
        "# roc curve for tpr = fpr \n",
        "random_probs = [0 for i in range(len(yPredictions))]\n",
        "p_fpr, p_tpr, _ = roc_curve(yPredictions, random_probs, pos_label=1)"
      ],
      "metadata": {
        "id": "mtO-OakdioJq"
      },
      "execution_count": 96,
      "outputs": []
    },
    {
      "cell_type": "code",
      "source": [
        "from sklearn.metrics import roc_auc_score\n",
        "\n",
        "# auc scores\n",
        "auc_score1 = roc_auc_score(yPredictions, pred_prob1[:,1])\n",
        "\n",
        "print(\"Area Under Curve: \", auc_score1)"
      ],
      "metadata": {
        "colab": {
          "base_uri": "https://localhost:8080/"
        },
        "id": "_kvRUm6Ziuu7",
        "outputId": "ab67d251-92d3-4685-86c8-87029af2ae6d"
      },
      "execution_count": 97,
      "outputs": [
        {
          "output_type": "stream",
          "name": "stdout",
          "text": [
            "Area Under Curve:  1.0\n"
          ]
        }
      ]
    },
    {
      "cell_type": "code",
      "source": [
        "plt.style.use('seaborn')\n",
        "\n",
        "# plot roc curves\n",
        "plt.plot(fpr1, tpr1, linestyle='--',color='orange', label='Our Model')\n",
        "plt.plot(p_fpr, p_tpr, linestyle='--', color='blue')\n",
        "# title\n",
        "plt.title('ROC curve')\n",
        "# x label\n",
        "plt.xlabel('False Positive Rate')\n",
        "# y label\n",
        "plt.ylabel('True Positive rate')\n",
        "\n",
        "plt.legend(loc='best')\n",
        "plt.savefig('ROC',dpi=300)\n",
        "plt.show();"
      ],
      "metadata": {
        "colab": {
          "base_uri": "https://localhost:8080/",
          "height": 376
        },
        "id": "jQ3NITR-i3s8",
        "outputId": "0661f19e-455c-44f2-f952-1bd267f46748"
      },
      "execution_count": 98,
      "outputs": [
        {
          "output_type": "display_data",
          "data": {
            "text/plain": [
              "<Figure size 576x396 with 1 Axes>"
            ],
            "image/png": "[encoded data removed]"
          },
          "metadata": {}
        }
      ]
    }
  ]
}